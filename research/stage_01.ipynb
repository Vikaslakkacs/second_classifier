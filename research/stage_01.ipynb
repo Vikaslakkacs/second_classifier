{
 "cells": [
  {
   "cell_type": "code",
   "execution_count": 1,
   "metadata": {},
   "outputs": [],
   "source": [
    "from dataclasses import dataclass\n",
    "from secondClassifier.constants import *\n",
    "from secondClassifier.utils.common import read_yaml, create_directory\n",
    "from pathlib import Path\n",
    "import os\n",
    "import tarfile \n",
    "from urllib import request\n",
    "from secondClassifier.constants import CONFIG_FILE_PATH, PARAMS_FILE_PATH"
   ]
  },
  {
   "cell_type": "code",
   "execution_count": 2,
   "metadata": {},
   "outputs": [],
   "source": [
    "os.chdir('../')"
   ]
  },
  {
   "cell_type": "code",
   "execution_count": 3,
   "metadata": {},
   "outputs": [],
   "source": [
    "@dataclass(frozen=True)\n",
    "class DataIngestionConfig:\n",
    "    root_dir: Path\n",
    "    source_URL: str\n",
    "    local_data_file: Path\n",
    "    unzip_dir: Path\n",
    "    clean_dir: Path"
   ]
  },
  {
   "cell_type": "code",
   "execution_count": null,
   "metadata": {},
   "outputs": [],
   "source": []
  },
  {
   "cell_type": "code",
   "execution_count": 4,
   "metadata": {},
   "outputs": [],
   "source": [
    "class ConfigurationManager:\n",
    "    \"\"\"Creating configuration data at each stage of project\n",
    "    \"\"\"\n",
    "    def __init__(self, \n",
    "                 config_filepath= CONFIG_FILE_PATH,\n",
    "                 params_filepath= PARAMS_FILE_PATH):\n",
    "        self.config=read_yaml(config_filepath)\n",
    "        self.params= read_yaml(params_filepath)\n",
    "        ##Creates directory for root directory\n",
    "        create_directory(self.config.artifacts_root)\n",
    "    \n",
    "    def get_dataingestion_config(self)->DataIngestionConfig:\n",
    "        \"\"\"assign values to the data class DataIngestion\n",
    "\n",
    "        Returns:\n",
    "            DataIngestionConfig: Data ingestion data class\n",
    "        \"\"\"\n",
    "        config_ingestion= self.config.data_ingestion\n",
    "        ##Create directory\n",
    "        create_directory(config_ingestion.root_dir)\n",
    "        data_ingestion_config= DataIngestionConfig(\n",
    "            root_dir= config_ingestion.root_dir,\n",
    "            source_URL= config_ingestion.source_URL,\n",
    "            local_data_file= config_ingestion.local_data_file,\n",
    "            unzip_dir= config_ingestion.unzip_dir,\n",
    "            clean_dir= config_ingestion.clean_dir\n",
    "        )\n",
    "        return data_ingestion_config"
   ]
  },
  {
   "cell_type": "code",
   "execution_count": 5,
   "metadata": {},
   "outputs": [],
   "source": [
    "class dataIngestion:\n",
    "    \"\"\"Performing Data ingestion process\n",
    "    1. Retrieving the data from url\n",
    "    2. unzipping the data\n",
    "    3. cleaning up the data (if required.)\n",
    "    \"\"\"\n",
    "    def __init__(self, config:DataIngestionConfig):\n",
    "        \"\"\"Define configuration details of data ingestion\"\"\"\n",
    "        self.config= config\n",
    "\n",
    "    def download_data(self):\n",
    "        \"\"\"Retrieves the data from url and downloads to specific folder.\"\"\"\n",
    "        ##Checking if data set file already exits else download\n",
    "        if not os.path.exists(self.config.local_data_file):\n",
    "            request.urlretrieve(self.config.source_URL,\n",
    "                                filename=self.config.local_data_file)\n",
    "\n",
    "    def unzip_dataset(self):\n",
    "        \"\"\"Un zips the dataset from tgz\n",
    "        \"\"\"\n",
    "        if os.path.exists(self.config.local_data_file) and not os.path.exists(self.config.clean_dir) :\n",
    "            with tarfile.open(self.config.local_data_file) as dsf:\n",
    "                dsf.extractall(self.config.unzip_dir)\n",
    "        \n",
    "    def cleanup_dataset(self):\n",
    "        \"\"\"Cleansup the data set apart from actual data\n",
    "        \"\"\"\n",
    "        ##Cleaning un necessary files. till now we have only one file\n",
    "        ## loop around the folder and delete files which are not in folder\n",
    "        for file_folder in os.listdir(self.config.clean_dir):\n",
    "            ## if there is no suffix for the file it is a folder\n",
    "            if Path(file_folder).suffix!='':\n",
    "                os.remove(os.path.join(self.config.clean_dir, file_folder))\n",
    "        \n",
    "    "
   ]
  },
  {
   "cell_type": "code",
   "execution_count": 6,
   "metadata": {},
   "outputs": [],
   "source": [
    "##tarfile.open(\"http://download.tensorflow.org/example_images/flower_photos.tgz\")"
   ]
  },
  {
   "cell_type": "code",
   "execution_count": 7,
   "metadata": {},
   "outputs": [],
   "source": [
    "ingestion_config= ConfigurationManager()\n",
    "data_ingestion_config= ingestion_config.get_dataingestion_config()"
   ]
  },
  {
   "cell_type": "code",
   "execution_count": 8,
   "metadata": {},
   "outputs": [],
   "source": [
    "dataingestion= dataIngestion(data_ingestion_config)"
   ]
  },
  {
   "cell_type": "code",
   "execution_count": 9,
   "metadata": {},
   "outputs": [],
   "source": [
    "dataingestion.download_data()"
   ]
  },
  {
   "cell_type": "code",
   "execution_count": 10,
   "metadata": {},
   "outputs": [],
   "source": [
    "dataingestion.unzip_dataset()"
   ]
  },
  {
   "cell_type": "code",
   "execution_count": 11,
   "metadata": {},
   "outputs": [],
   "source": [
    "dataingestion.cleanup_dataset()"
   ]
  },
  {
   "cell_type": "code",
   "execution_count": 12,
   "metadata": {},
   "outputs": [
    {
     "data": {
      "text/plain": [
       "'.txt'"
      ]
     },
     "execution_count": 12,
     "metadata": {},
     "output_type": "execute_result"
    }
   ],
   "source": [
    "Path('file.txt').suffix"
   ]
  },
  {
   "cell_type": "code",
   "execution_count": 13,
   "metadata": {},
   "outputs": [
    {
     "name": "stdout",
     "output_type": "stream",
     "text": [
      "Hello flower_photos.tgz\n"
     ]
    }
   ],
   "source": [
    "for file_folder in  os.listdir('artifacts/data_ingestion'):\n",
    "    #print(type(Path(file_folder).suffix))\n",
    "    if len( Path(file_folder).suffix):\n",
    "        print(f'Hello {file_folder}')"
   ]
  },
  {
   "cell_type": "code",
   "execution_count": null,
   "metadata": {},
   "outputs": [],
   "source": []
  },
  {
   "cell_type": "code",
   "execution_count": null,
   "metadata": {},
   "outputs": [],
   "source": []
  }
 ],
 "metadata": {
  "kernelspec": {
   "display_name": "firstClassifier",
   "language": "python",
   "name": "python3"
  },
  "language_info": {
   "codemirror_mode": {
    "name": "ipython",
    "version": 3
   },
   "file_extension": ".py",
   "mimetype": "text/x-python",
   "name": "python",
   "nbconvert_exporter": "python",
   "pygments_lexer": "ipython3",
   "version": "3.9.16"
  },
  "orig_nbformat": 4
 },
 "nbformat": 4,
 "nbformat_minor": 2
}
