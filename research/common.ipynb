{
 "cells": [
  {
   "cell_type": "code",
   "execution_count": 15,
   "metadata": {},
   "outputs": [],
   "source": [
    "## Testing ConfigBox library\n",
    "from box import ConfigBox\n",
    "import yaml\n",
    "import os"
   ]
  },
  {
   "cell_type": "code",
   "execution_count": 8,
   "metadata": {},
   "outputs": [
    {
     "name": "stdout",
     "output_type": "stream",
     "text": [
      "{'artifacts_root': 'artifacts', 'data_ingestion': {'root_dir': 'artifacts/data_ingestion', 'source_URL': 'http://download.tensorflow.org/example_images/flower_photos.tgz', 'local_data_file': 'artifacts/data_ingestion/data.tgz', 'unzip_dir': 'artifacts/data_ingestion'}}\n"
     ]
    }
   ],
   "source": [
    "path= \"/Users/vikaslakka/Desktop/FSDS/DeepLearning/Projects/CNN_projects/second_classifier/configs/config.yaml\"\n",
    "with open(path) as yaml_file:\n",
    "    content= yaml.safe_load(yaml_file)\n",
    "    #print(content)\n",
    "    print(ConfigBox(content))"
   ]
  },
  {
   "cell_type": "code",
   "execution_count": 11,
   "metadata": {},
   "outputs": [],
   "source": [
    "from secondClassifier.utils.common import read_yaml"
   ]
  },
  {
   "cell_type": "code",
   "execution_count": 14,
   "metadata": {},
   "outputs": [
    {
     "data": {
      "text/plain": [
       "ConfigBox({'artifacts_root': 'artifacts', 'data_ingestion': {'root_dir': 'artifacts/data_ingestion', 'source_URL': 'http://download.tensorflow.org/example_images/flower_photos.tgz', 'local_data_file': 'artifacts/data_ingestion/data.tgz', 'unzip_dir': 'artifacts/data_ingestion'}})"
      ]
     },
     "execution_count": 14,
     "metadata": {},
     "output_type": "execute_result"
    }
   ],
   "source": [
    "read_yaml(path)"
   ]
  },
  {
   "cell_type": "code",
   "execution_count": 21,
   "metadata": {},
   "outputs": [],
   "source": [
    "create_path=\"artifacts\"\n",
    "if not os.path.exists(create_path):\n",
    "    os.makedirs(create_path, exist_ok=True)"
   ]
  },
  {
   "cell_type": "code",
   "execution_count": null,
   "metadata": {},
   "outputs": [],
   "source": []
  }
 ],
 "metadata": {
  "kernelspec": {
   "display_name": "secondClassifier",
   "language": "python",
   "name": "python3"
  },
  "language_info": {
   "codemirror_mode": {
    "name": "ipython",
    "version": 3
   },
   "file_extension": ".py",
   "mimetype": "text/x-python",
   "name": "python",
   "nbconvert_exporter": "python",
   "pygments_lexer": "ipython3",
   "version": "3.9.16"
  },
  "orig_nbformat": 4
 },
 "nbformat": 4,
 "nbformat_minor": 2
}
